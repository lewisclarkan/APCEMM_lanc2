{
 "cells": [
  {
   "cell_type": "code",
   "execution_count": 4,
   "metadata": {},
   "outputs": [],
   "source": [
    "import matplotlib.pyplot as plt\n",
    "import numpy as np\n",
    "import pandas as pd\n",
    "\n",
    "import xarray as xr\n",
    "\n",
    "from pycontrails.datalib.ecmwf import ERA5, ERA5ModelLevel\n",
    "from pycontrails.models.dry_advection import DryAdvection\n",
    "from pycontrails import MetDataset\n",
    "from pycontrails import Flight\n",
    "from pycontrails.models.cocip import Cocip"
   ]
  },
  {
   "cell_type": "code",
   "execution_count": 5,
   "metadata": {},
   "outputs": [],
   "source": [
    "ds = xr.load_dataset(\"download.grib\", engine=\"cfgrib\")"
   ]
  },
  {
   "cell_type": "code",
   "execution_count": 6,
   "metadata": {},
   "outputs": [
    {
     "name": "stderr",
     "output_type": "stream",
     "text": [
      "2025-02-26 11:17:02,799 INFO [2024-09-26T00:00:00] Watch our [Forum](https://forum.ecmwf.int/) for Announcements, news and other discussed topics.\n",
      "2025-02-26 11:17:02,800 WARNING [2024-06-16T00:00:00] CDS API syntax is changed and some keys or parameter names may have also changed. To avoid requests failing, please use the \"Show API request code\" tool on the dataset Download Form to check you are using the correct syntax for your API request.\n",
      "2025-02-26 11:17:02,995 INFO Request ID is cae0817a-1d9d-4f4b-acaa-f4f9786f8a58\n",
      "2025-02-26 11:17:03,055 INFO Request ID is 1c946934-d955-4c15-8d23-da008cc21d76\n",
      "2025-02-26 11:17:03,372 INFO status has been updated to accepted\n",
      "2025-02-26 11:17:03,396 INFO status has been updated to accepted\n",
      "2025-02-26 11:17:25,397 INFO status has been updated to running\n",
      "2025-02-26 11:18:20,539 INFO status has been updated to successful\n",
      "2025-02-26 11:18:58,225 INFO status has been updated to successful                       \n",
      "2025-02-26 11:19:03,324 INFO [2024-09-26T00:00:00] Watch our [Forum](https://forum.ecmwf.int/) for Announcements, news and other discussed topics.\n",
      "2025-02-26 11:19:03,325 WARNING [2024-06-16T00:00:00] CDS API syntax is changed and some keys or parameter names may have also changed. To avoid requests failing, please use the \"Show API request code\" tool on the dataset Download Form to check you are using the correct syntax for your API request.\n",
      "2025-02-26 11:19:04,406 INFO Request ID is 36819d36-e529-45fb-812e-c5c91b7cf4d9\n",
      "2025-02-26 11:19:04,514 INFO status has been updated to accepted\n",
      "2025-02-26 11:19:18,453 INFO status has been updated to successful\n",
      "                                                                                       \r"
     ]
    }
   ],
   "source": [
    "time = (\"2020-02-25T01:00\", \"2020-02-25T06:00\")\n",
    "\n",
    "era5ml = ERA5ModelLevel(\n",
    "    time=time,\n",
    "    variables=(\"t\", \"q\", \"u\", \"v\", \"w\", \"ciwc\"),\n",
    "    grid=1,  # horizontal resolution, 0.25 by default\n",
    "    model_levels=range(70, 91),\n",
    "    pressure_levels=np.arange(170, 400, 10),\n",
    ")\n",
    "met_t = era5ml.open_metdataset()\n",
    "\n",
    "era5_sp = ERA5(\n",
    "    time=time,\n",
    "    variables=(\"sp\"),\n",
    "    grid=1,\n",
    "    pressure_levels=-1,\n",
    ")\n",
    "\n",
    "sp = era5_sp.open_metdataset()"
   ]
  },
  {
   "cell_type": "code",
   "execution_count": 7,
   "metadata": {},
   "outputs": [],
   "source": [
    "geopotential = met_t.data.coords[\"altitude\"].data * 9.8 \n",
    "\n",
    "ds = met_t.data.assign_coords(geopotential=(\"geopotential\", geopotential))\n",
    "\n",
    "met = MetDataset(ds)"
   ]
  },
  {
   "cell_type": "code",
   "execution_count": 8,
   "metadata": {},
   "outputs": [
    {
     "data": {
      "image/png": "[encoded data removed]",
      "text/plain": [
       "<Figure size 640x480 with 1 Axes>"
      ]
     },
     "metadata": {},
     "output_type": "display_data"
    }
   ],
   "source": [
    "flight_attrs = {\n",
    "    \"flight_id\": \"test\",\n",
    "    # set constants along flight path\n",
    "    \"true_airspeed\": 226.099920796651,  # true airspeed, m/s\n",
    "    \"thrust\": 0.22,  # thrust_setting\n",
    "    \"nvpm_ei_n\": 1.897462e15,  # non-volatile emissions index\n",
    "    \"aircraft_type\": \"E190\",\n",
    "    \"wingspan\": 48,  # m\n",
    "    \"n_engine\": 2,\n",
    "}\n",
    "\n",
    "# Example flight\n",
    "df = pd.DataFrame()\n",
    "df[\"longitude\"] = np.linspace(47, 47, 1)\n",
    "df[\"latitude\"] = np.linspace(85, 85, 1)\n",
    "df[\"altitude\"] = np.linspace(10900, 10900, 1)\n",
    "df[\"engine_efficiency\"] = np.linspace(0.34, 0.34, 1)\n",
    "df[\"fuel_flow\"] = np.linspace(2.1, 2.1, 1)  # kg/s\n",
    "df[\"aircraft_mass\"] = np.linspace(154445, 154445, 1)  # kg\n",
    "df[\"time\"] = pd.date_range(\"2020-02-25T01:00\", \"2020-02-25T01:00\", periods=1)\n",
    "\n",
    "fl = Flight(df, attrs=flight_attrs)\n",
    "\n",
    "dt_integration = pd.Timedelta(minutes=2)\n",
    "max_age = pd.Timedelta(hours=6)\n",
    "\n",
    "params = {\n",
    "    \"dt_integration\": dt_integration,\n",
    "    \"max_age\": max_age,\n",
    "    \"depth\": 1.0,  # initial plume depth, [m]\n",
    "    \"width\": 1.0,  # initial plume width, [m]\n",
    "}\n",
    "dry_adv = DryAdvection(met, params)\n",
    "dry_adv_df = dry_adv.eval(fl).dataframe\n",
    "\n",
    "ax = plt.axes()\n",
    "\n",
    "ax.scatter(fl[\"longitude\"], fl[\"latitude\"], s=3, color=\"red\", label=\"Flight path\")\n",
    "ax.scatter(\n",
    "    dry_adv_df[\"longitude\"], dry_adv_df[\"latitude\"], s=0.1, color=\"purple\", label=\"Plume evolution\"\n",
    ")\n",
    "ax.legend()\n",
    "ax.set_title(\"Flight path and plume evolution under dry advection\")\n",
    "\n",
    "plt.show()"
   ]
  }
 ],
 "metadata": {
  "kernelspec": {
   "display_name": "Python 3",
   "language": "python",
   "name": "python3"
  },
  "language_info": {
   "codemirror_mode": {
    "name": "ipython",
    "version": 3
   },
   "file_extension": ".py",
   "mimetype": "text/x-python",
   "name": "python",
   "nbconvert_exporter": "python",
   "pygments_lexer": "ipython3",
   "version": "3.10.8"
  }
 },
 "nbformat": 4,
 "nbformat_minor": 2
}
