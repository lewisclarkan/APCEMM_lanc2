{
 "cells": [
  {
   "cell_type": "code",
   "execution_count": 1,
   "metadata": {},
   "outputs": [],
   "source": [
    "import xarray\n",
    "import zarr\n",
    "\n",
    "import numpy as np\n",
    "import matplotlib.pyplot as plt\n",
    "import pandas as pd\n",
    "import numpy as np\n",
    "\n",
    "import dask\n",
    "\n",
    "from datetime import datetime\n",
    "from pycontrails.datalib.ecmwf import ERA5ARCO\n",
    "from pycontrails.datalib.ecmwf.arco_era5 import open_arco_era5_model_level_data\n",
    "from pycontrails.models.cocip import Cocip\n",
    "from pycontrails.datalib.ecmwf.model_levels import model_level_pressure\n",
    "from pycontrails.datalib.ecmwf import ERA5\n",
    "from pycontrails.models.apcemm import APCEMM\n",
    "from pycontrails.core import met_var, GeoVectorDataset, models, vector\n",
    "from pycontrails.physics import constants, thermo, units\n",
    "from pycontrails.datalib.ecmwf import ERA5ModelLevel\n",
    "from pycontrails import MetDataArray, MetDataset, MetVariable\n",
    "from pycontrails import Flight\n",
    "from pycontrails.models.dry_advection import DryAdvection\n",
    "from pycontrails.models.humidity_scaling import ConstantHumidityScaling"
   ]
  },
  {
   "cell_type": "code",
   "execution_count": 2,
   "metadata": {},
   "outputs": [],
   "source": [
    "times = pd.date_range(\"2020-02-25T01:00\", \"2020-02-25T05:00\", periods=3)\n",
    "\n",
    "ds = open_arco_era5_model_level_data(\n",
    "    times=times,\n",
    "    variables=Cocip.met_variables+Cocip.optional_met_variables,\n",
    "    pressure_levels=(200,250,300)\n",
    ")"
   ]
  },
  {
   "cell_type": "code",
   "execution_count": 3,
   "metadata": {},
   "outputs": [],
   "source": [
    "ds = ds.sel(longitude=slice(45, 50))\n",
    "ds = ds.sel(latitude=slice(80, 89))\n",
    "\n",
    "ds = ds.rename({\"t\":\"air_temperature\",\"u\":\"eastward_wind\",\"v\":\"northward_wind\",\"w\":\"lagrangian_tendency_of_air_pressure\"})"
   ]
  },
  {
   "cell_type": "code",
   "execution_count": 4,
   "metadata": {},
   "outputs": [
    {
     "name": "stdout",
     "output_type": "stream",
     "text": [
      "140396\n"
     ]
    }
   ],
   "source": [
    "print(ds.nbytes)"
   ]
  },
  {
   "cell_type": "code",
   "execution_count": 5,
   "metadata": {},
   "outputs": [],
   "source": [
    "met = MetDataset(ds)"
   ]
  },
  {
   "cell_type": "code",
   "execution_count": null,
   "metadata": {},
   "outputs": [
    {
     "name": "stdout",
     "output_type": "stream",
     "text": [
      "MetDataset with data:\n",
      "\n",
      "<xarray.Dataset>\n",
      "Dimensions:                              (time: 3, latitude: 37, level: 3,\n",
      "                                          longitude: 21)\n",
      "Coordinates:\n",
      "  * time                                 (time) datetime64[ns] 2020-02-25T01:...\n",
      "  * latitude                             (latitude) float64 80.0 80.25 ... 89.0\n",
      "  * level                                (level) float64 200.0 250.0 300.0\n",
      "  * longitude                            (longitude) float64 45.0 45.25 ... 50.0\n",
      "    air_pressure                         (level) float32 2e+04 2.5e+04 3e+04\n",
      "    altitude                             (level) float32 1.178e+04 ... 9.164e+03\n",
      "Data variables:\n",
      "    air_temperature                      (longitude, latitude, level, time) float32 dask.array<chunksize=(21, 37, 3, 1), meta=np.ndarray>\n",
      "    q                                    (longitude, latitude, level, time) float32 dask.array<chunksize=(21, 37, 3, 1), meta=np.ndarray>\n",
      "    eastward_wind                        (longitude, latitude, level, time) float32 dask.array<chunksize=(21, 37, 3, 1), meta=np.ndarray>\n",
      "    northward_wind                       (longitude, latitude, level, time) float32 dask.array<chunksize=(21, 37, 3, 1), meta=np.ndarray>\n",
      "    lagrangian_tendency_of_air_pressure  (longitude, latitude, level, time) float32 dask.array<chunksize=(21, 37, 3, 1), meta=np.ndarray>\n",
      "Attributes:\n",
      "    valid_time_start:  1940-01-01\n",
      "    last_updated:      2024-08-27 14:20:51.626245\n",
      "    valid_time_stop:   2024-03-31\n"
     ]
    },
    {
     "ename": "",
     "evalue": "",
     "output_type": "error",
     "traceback": [
      "\u001b[1;31mThe Kernel crashed while executing code in the current cell or a previous cell. \n",
      "\u001b[1;31mPlease review the code in the cell(s) to identify a possible cause of the failure. \n",
      "\u001b[1;31mClick <a href='https://aka.ms/vscodeJupyterKernelCrash'>here</a> for more info. \n",
      "\u001b[1;31mView Jupyter <a href='command:jupyter.viewOutput'>log</a> for further details."
     ]
    }
   ],
   "source": [
    "print(met)"
   ]
  },
  {
   "cell_type": "code",
   "execution_count": null,
   "metadata": {},
   "outputs": [],
   "source": [
    "with dask.config.set(scheduler=\"single-threaded\"):\n",
    "    met.data.load()"
   ]
  },
  {
   "cell_type": "code",
   "execution_count": null,
   "metadata": {},
   "outputs": [],
   "source": [
    "flight_attrs = {\n",
    "    \"flight_id\": \"test\",\n",
    "    # set constants along flight path\n",
    "    \"true_airspeed\": 226.099920796651,  # true airspeed, m/s\n",
    "    \"thrust\": 0.22,  # thrust_setting\n",
    "    \"nvpm_ei_n\": 1.897462e15,  # non-volatile emissions index\n",
    "    \"aircraft_type\": \"E190\",\n",
    "    \"wingspan\": 48,  # m\n",
    "    \"n_engine\": 2,\n",
    "}\n",
    "\n",
    "# Example flight\n",
    "df = pd.DataFrame()\n",
    "df[\"longitude\"] = np.linspace(47, 47, 1)\n",
    "df[\"latitude\"] = np.linspace(85, 85, 1)\n",
    "df[\"altitude\"] = np.linspace(10900, 10900, 1)\n",
    "df[\"engine_efficiency\"] = np.linspace(0.34, 0.34, 1)\n",
    "df[\"fuel_flow\"] = np.linspace(2.1, 2.1, 1)  # kg/s\n",
    "df[\"aircraft_mass\"] = np.linspace(154445, 154445, 1)  # kg\n",
    "df[\"time\"] = pd.date_range(\"2020-02-25T01:00\", \"2020-02-25T01:00\", periods=1)\n",
    "\n",
    "fl = Flight(df, attrs=flight_attrs)\n",
    "\n",
    "dt_integration = pd.Timedelta(minutes=2)\n",
    "max_age = pd.Timedelta(hours=6)\n",
    "\n",
    "params = {\n",
    "    \"dt_integration\": dt_integration,\n",
    "    \"max_age\": max_age,\n",
    "    \"depth\": 1.0,  # initial plume depth, [m]\n",
    "    \"width\": 1.0,  # initial plume width, [m]\n",
    "}\n",
    "dry_adv = DryAdvection(met, params)\n",
    "dry_adv_df = dry_adv.eval(fl).dataframe\n",
    "\n",
    "ax = plt.axes()\n",
    "\n",
    "ax.scatter(fl[\"longitude\"], fl[\"latitude\"], s=3, color=\"red\", label=\"Flight path\")\n",
    "ax.scatter(\n",
    "    dry_adv_df[\"longitude\"], dry_adv_df[\"latitude\"], s=0.1, color=\"purple\", label=\"Plume evolution\"\n",
    ")\n",
    "ax.legend()\n",
    "ax.set_title(\"Flight path and plume evolution under dry advection\")\n",
    "\n",
    "plt.show()"
   ]
  }
 ],
 "metadata": {
  "kernelspec": {
   "display_name": "Python 3",
   "language": "python",
   "name": "python3"
  },
  "language_info": {
   "codemirror_mode": {
    "name": "ipython",
    "version": 3
   },
   "file_extension": ".py",
   "mimetype": "text/x-python",
   "name": "python",
   "nbconvert_exporter": "python",
   "pygments_lexer": "ipython3",
   "version": "3.10.8"
  }
 },
 "nbformat": 4,
 "nbformat_minor": 2
}
