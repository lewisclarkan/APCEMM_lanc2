{
 "cells": [
  {
   "cell_type": "code",
   "execution_count": 1,
   "metadata": {},
   "outputs": [],
   "source": [
    "# Import necessary libraries\n",
    "\n",
    "import matplotlib.pyplot as plt\n",
    "import pandas as pd\n",
    "import numpy as np\n",
    "import xarray as xr\n",
    "import cartopy.crs as ccrs\n",
    "\n",
    "import random\n",
    "import time\n",
    "\n",
    "from pycontrails import Flight\n",
    "from alive_progress import alive_bar\n",
    "\n",
    "from src.sampling import calcTotalDistance, samplePoint, generateFlight"
   ]
  },
  {
   "cell_type": "code",
   "execution_count": 2,
   "metadata": {},
   "outputs": [
    {
     "data": {
      "text/plain": [
       "\"df = pd.read_csv('flight_data/flightlist_20190101_20190131.csv.gz')\\ndf.drop('number', axis=1, inplace=True)\\ndf.drop('registration', axis=1, inplace=True)\\ndf.drop('icao24', axis=1, inplace=True)\\ndf.to_pickle('flight_data/flightlist_20190101_20190131.pkl')\""
      ]
     },
     "execution_count": 2,
     "metadata": {},
     "output_type": "execute_result"
    }
   ],
   "source": [
    "\"\"\"df = pd.read_csv('flight_data/flightlist_20190101_20190131.csv.gz')\n",
    "df.drop('number', axis=1, inplace=True)\n",
    "df.drop('registration', axis=1, inplace=True)\n",
    "df.drop('icao24', axis=1, inplace=True)\n",
    "df.to_pickle('flight_data/flightlist_20190101_20190131.pkl')\"\"\""
   ]
  },
  {
   "cell_type": "code",
   "execution_count": 3,
   "metadata": {},
   "outputs": [],
   "source": [
    "n_samples = 100\n",
    "n_flights = 100"
   ]
  },
  {
   "cell_type": "code",
   "execution_count": null,
   "metadata": {},
   "outputs": [],
   "source": [
    "df = pd.read_pickle('flight_data/flightlist_20190101_20190131.pkl')"
   ]
  },
  {
   "cell_type": "code",
   "execution_count": 35,
   "metadata": {},
   "outputs": [
    {
     "name": "stdout",
     "output_type": "stream",
     "text": [
      "Converting to list of flight objects...\n",
      "|████████████████████████████████████████| 100/100 [100%] in 0.2s (611.80/s) \n",
      "\n",
      "Total distance flown by dataset: 840606.01 km\n",
      "\n",
      "Taking samples...\n",
      "|████████████████████████████████████████| 100/100 [100%] in 0.9s (113.21/s) \n",
      "\n",
      "Determining sample characteristics...\n",
      "|████████████████████████████████████████| 100/100 [100%] in 0.0s (223705.64/s) \n"
     ]
    }
   ],
   "source": [
    "samples = np.empty((n_samples,2),int)\n",
    "flights = []\n",
    "\n",
    "print(\"Converting to list of flight objects...\")\n",
    "with alive_bar(n_samples) as bar:\n",
    "    for i in range(0, n_flights):\n",
    "        flights.append(generateFlight(df.iloc[i]))\n",
    "        bar()\n",
    "\n",
    "total_distance = calcTotalDistance(flights)\n",
    "\n",
    "print(f\"\\nTotal distance flown by dataset: {total_distance/1000:.2f} km\")\n",
    "\n",
    "print(\"\\nTaking samples...\")\n",
    "with alive_bar(n_samples) as bar:\n",
    "    for i in range(0, n_samples):\n",
    "        samples[i] = samplePoint(flights, total_distance)\n",
    "        bar()\n",
    "\n",
    "sample_index = np.arange(0, n_samples, 1)\n",
    "\n",
    "longitudes   = np.empty(n_samples)\n",
    "latitudes    = np.empty(n_samples)\n",
    "altitudes    = np.empty(n_samples)\n",
    "times        = np.empty(n_samples, dtype = 'datetime64[s]')\n",
    "aircrafts    = np.empty(n_samples, dtype = 'str')\n",
    "\n",
    "print(\"\\nDetermining sample characteristics...\")\n",
    "with alive_bar(n_samples) as bar:\n",
    "    for i in range(0, n_samples):\n",
    " \n",
    "        longitudes[i]   = flights[samples[i][0]]['longitude'][samples[i][1]]\n",
    "        latitudes[i]    = flights[samples[i][0]]['latitude'][samples[i][1]]\n",
    "        altitudes[i]    = flights[samples[i][0]]['altitude'][samples[i][1]]\n",
    "        times[i]        = flights[samples[i][0]]['time'][samples[i][1]]\n",
    "\n",
    "        aircrafts[i]    = flights[samples[i][0]].attrs['aircraft_type']\n",
    "\n",
    "        bar()"
   ]
  }
 ],
 "metadata": {
  "kernelspec": {
   "display_name": "Python 3",
   "language": "python",
   "name": "python3"
  },
  "language_info": {
   "codemirror_mode": {
    "name": "ipython",
    "version": 3
   },
   "file_extension": ".py",
   "mimetype": "text/x-python",
   "name": "python",
   "nbconvert_exporter": "python",
   "pygments_lexer": "ipython3",
   "version": "3.10.8"
  }
 },
 "nbformat": 4,
 "nbformat_minor": 2
}
