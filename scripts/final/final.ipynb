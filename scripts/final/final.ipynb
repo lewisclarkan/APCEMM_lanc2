{
 "cells": [
  {
   "cell_type": "code",
   "execution_count": 1,
   "metadata": {},
   "outputs": [],
   "source": [
    "# Import necessary libraries\n",
    "\n",
    "import matplotlib.pyplot as plt\n",
    "import pandas as pd\n",
    "import numpy as np\n",
    "import xarray as xr\n",
    "import cartopy.crs as ccrs\n",
    "\n",
    "import random\n",
    "import time\n",
    "\n",
    "from pycontrails import Flight\n",
    "from pycontrails.datalib.ecmwf import ERA5\n",
    "from pycontrails.models.cocip import Cocip\n",
    "from pycontrails.models.apcemm import APCEMM\n",
    "from pycontrails.models.dry_advection import DryAdvection\n",
    "from pycontrails.core import met_var, GeoVectorDataset, models, vector\n",
    "from pycontrails.physics import constants, thermo, units\n",
    "from pycontrails.datalib.ecmwf import ERA5ARCO\n",
    "\n",
    "from pycontrails import Flight\n",
    "from pycontrails.datalib.ecmwf import ERA5\n",
    "from pycontrails.models.cocip import Cocip\n",
    "from pycontrails.models.dry_advection import DryAdvection\n",
    "from pycontrails.models.humidity_scaling import ConstantHumidityScaling\n",
    "from alive_progress import alive_bar\n",
    "\n",
    "from src.sampling import calcTotalDistance, samplePoint, generateFlight\n",
    "from src.geodata import open_dataset_from_sample"
   ]
  },
  {
   "cell_type": "code",
   "execution_count": 2,
   "metadata": {},
   "outputs": [
    {
     "data": {
      "text/plain": [
       "\"df = pd.read_csv('flight_data/flightlist_20190101_20190131.csv.gz')\\ndf.drop('number', axis=1, inplace=True)\\ndf.drop('registration', axis=1, inplace=True)\\ndf.drop('icao24', axis=1, inplace=True)\\ndf.to_pickle('flight_data/flightlist_20190101_20190131.pkl')\""
      ]
     },
     "execution_count": 2,
     "metadata": {},
     "output_type": "execute_result"
    }
   ],
   "source": [
    "\"\"\"df = pd.read_csv('flight_data/flightlist_20190101_20190131.csv.gz')\n",
    "df.drop('number', axis=1, inplace=True)\n",
    "df.drop('registration', axis=1, inplace=True)\n",
    "df.drop('icao24', axis=1, inplace=True)\n",
    "df.to_pickle('flight_data/flightlist_20190101_20190131.pkl')\"\"\""
   ]
  },
  {
   "cell_type": "code",
   "execution_count": 3,
   "metadata": {},
   "outputs": [],
   "source": [
    "n_samples = 100\n",
    "n_flights = 100"
   ]
  },
  {
   "cell_type": "code",
   "execution_count": 4,
   "metadata": {},
   "outputs": [],
   "source": [
    "# TODO: read in multiple picked files and combine them\n",
    "df = pd.read_pickle('flight_data/flightlist_20190101_20190131.pkl')"
   ]
  },
  {
   "cell_type": "code",
   "execution_count": 5,
   "metadata": {},
   "outputs": [],
   "source": [
    "#df = df.sample(frac=1)"
   ]
  },
  {
   "cell_type": "code",
   "execution_count": 6,
   "metadata": {},
   "outputs": [
    {
     "name": "stdout",
     "output_type": "stream",
     "text": [
      "Converting to list of flight objects...\n"
     ]
    },
    {
     "name": "stdout",
     "output_type": "stream",
     "text": [
      "|████████████████████████████████████████| 100/100 [100%] in 0.1s (671.21/s) \n",
      "\n",
      "Taking samples...\n",
      "|████████████████████████████████████████| 100/100 [100%] in 0.8s (121.72/s) \n",
      "\n",
      "Determining sample characteristics...\n",
      "|████████████████████████████████████████| 100/100 [100%] in 0.0s (121828.94/s) \n",
      "\n",
      "Total distance flown in dataset was 840606.01 km.\n"
     ]
    }
   ],
   "source": [
    "samples = np.empty((n_samples,2),int)\n",
    "flights = []\n",
    "\n",
    "print(\"Converting to list of flight objects...\")\n",
    "with alive_bar(n_flights) as bar:\n",
    "    for i in range(0, n_flights):\n",
    "        flights.append(generateFlight(df.iloc[i]))\n",
    "        bar()\n",
    "\n",
    "total_distance = calcTotalDistance(flights)\n",
    "\n",
    "print(\"\\nTaking samples...\")\n",
    "with alive_bar(n_samples) as bar:\n",
    "    for i in range(0, n_samples):\n",
    "        samples[i] = samplePoint(flights, total_distance)\n",
    "        bar()\n",
    "\n",
    "sample_indices = np.arange(0, n_samples, 1)\n",
    "\n",
    "longitudes   = np.empty(n_samples)\n",
    "latitudes    = np.empty(n_samples)\n",
    "altitudes    = np.empty(n_samples)\n",
    "times        = np.empty(n_samples, dtype = 'datetime64[s]')\n",
    "aircrafts    = np.empty(n_samples, dtype = object)\n",
    "\n",
    "print(\"\\nDetermining sample characteristics...\")\n",
    "with alive_bar(n_samples) as bar:\n",
    "    for i in range(0, n_samples):\n",
    "        longitudes[i]   = flights[samples[i][0]]['longitude'][samples[i][1]]\n",
    "        latitudes[i]    = flights[samples[i][0]]['latitude'][samples[i][1]]\n",
    "        altitudes[i]    = flights[samples[i][0]]['altitude'][samples[i][1]]\n",
    "        times[i]        = flights[samples[i][0]]['time'][samples[i][1]]\n",
    "        aircrafts[i]    = flights[samples[i][0]].attrs['aircraft_type']\n",
    "        bar()\n",
    "\n",
    "print(f\"\\nTotal distance flown in dataset was {total_distance/1000:.2f} km.\")"
   ]
  },
  {
   "cell_type": "code",
   "execution_count": 7,
   "metadata": {},
   "outputs": [
    {
     "data": {
      "text/plain": [
       "\"fig = plt.figure(figsize=(10, 10))\\nax = fig.add_subplot(1, 1, 1, projection=ccrs.PlateCarree())\\nax.coastlines()\\nax.set_global()\\nplt.scatter(longitudes, latitudes, marker='o', transform = ccrs.PlateCarree(), s=5)\\n\\nplt.show()\""
      ]
     },
     "execution_count": 7,
     "metadata": {},
     "output_type": "execute_result"
    }
   ],
   "source": [
    "\"\"\"fig = plt.figure(figsize=(10, 10))\n",
    "ax = fig.add_subplot(1, 1, 1, projection=ccrs.PlateCarree())\n",
    "ax.coastlines()\n",
    "ax.set_global()\n",
    "plt.scatter(longitudes, latitudes, marker='o', transform = ccrs.PlateCarree(), s=5)\n",
    "\n",
    "plt.show()\"\"\""
   ]
  },
  {
   "cell_type": "code",
   "execution_count": null,
   "metadata": {},
   "outputs": [],
   "source": [
    "df_samples = pd.DataFrame(data = np.array([sample_indices, longitudes, latitudes, altitudes, times, aircrafts]).transpose(), columns = [\"Index\", \"Longitude\", \"Latitude\", \"Altitude\", \"Time\", \"Aircraft Type\"])\n",
    "df_samples.to_csv('samples/samples.csv', sep='\\t')"
   ]
  },
  {
   "cell_type": "code",
   "execution_count": 9,
   "metadata": {},
   "outputs": [
    {
     "name": "stdout",
     "output_type": "stream",
     "text": [
      "   Index   Longitude   Latitude Altitude                Time Aircraft Type\n",
      "44    44  141.958557 -26.066644  10668.0 2018-12-31 03:08:00          A332\n",
      "32    32  137.200596 -21.033656  10668.0 2018-12-31 04:30:00          B788\n",
      "17    17  147.272749 -29.931136  10668.0 2018-12-31 07:17:00          A388\n",
      "64    64  126.614108  -8.500594  10668.0 2018-12-31 07:23:00          B788\n",
      "92    92  132.458092  48.907544  10668.0 2018-12-31 07:24:00           NaN\n",
      "..   ...         ...        ...      ...                 ...           ...\n",
      "93    93  -33.676407  66.198309  10668.0 2019-01-01 07:48:00          B77W\n",
      "36    36  -18.408629  61.491093  10668.0 2019-01-01 08:28:00          B77L\n",
      "39    39   -9.966383  42.469372  10668.0 2019-01-01 08:33:00          B789\n",
      "0      0   -2.934046  48.840488  10668.0 2019-01-01 09:15:00          B772\n",
      "94    94 -123.614847  49.508365  10668.0 2019-01-01 18:13:00          B77W\n",
      "\n",
      "[100 rows x 6 columns]\n"
     ]
    }
   ],
   "source": [
    "print(df_samples.sort_values('Time'))"
   ]
  }
 ],
 "metadata": {
  "kernelspec": {
   "display_name": "Python 3",
   "language": "python",
   "name": "python3"
  },
  "language_info": {
   "codemirror_mode": {
    "name": "ipython",
    "version": 3
   },
   "file_extension": ".py",
   "mimetype": "text/x-python",
   "name": "python",
   "nbconvert_exporter": "python",
   "pygments_lexer": "ipython3",
   "version": "3.10.8"
  }
 },
 "nbformat": 4,
 "nbformat_minor": 2
}
